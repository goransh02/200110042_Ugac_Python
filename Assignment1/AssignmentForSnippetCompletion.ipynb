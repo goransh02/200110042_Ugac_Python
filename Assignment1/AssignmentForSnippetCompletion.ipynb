{
  "nbformat": 4,
  "nbformat_minor": 5,
  "metadata": {
    "kernelspec": {
      "name": "python3",
      "display_name": "Python 3",
      "language": "python"
    },
    "language_info": {
      "name": "python",
      "version": "3.6.13",
      "mimetype": "text/x-python",
      "codemirror_mode": {
        "name": "ipython",
        "version": 3
      },
      "pygments_lexer": "ipython3",
      "nbconvert_exporter": "python",
      "file_extension": ".py"
    },
    "colab": {
      "name": "Copy of AssignmentForSnippetCompletion.ipynb",
      "provenance": []
    }
  },
  "cells": [
    {
      "cell_type": "markdown",
      "metadata": {
        "id": "AROEAty1erxH"
      },
      "source": [
        "# Assignment: Complete the Snippet\n"
      ],
      "id": "AROEAty1erxH"
    },
    {
      "cell_type": "markdown",
      "metadata": {
        "id": "zt6Z8Hv3erxI"
      },
      "source": [
        "Shubh started building a basic Python Script which goes through the entire text of a particular book and mugs up all its words. After that it asks you for a word, goes over the times when this word came in the text and gives you the complete sentence in which it was used. You may choose to ask for as many such sentences as the number of occurences of the word.\n",
        "\n",
        "He's managed to come up with the part where he loads the file into Memory. He also managed to come up with snippets of code which could potentially do something if completed, but he has many deadlines to look after and not enough caffeine to turn to code. Can you help him?"
      ],
      "id": "zt6Z8Hv3erxI"
    },
    {
      "cell_type": "code",
      "metadata": {
        "trusted": true,
        "id": "6jZGLUvxerxI"
      },
      "source": [
        "File = open(\"HarryPotterAndTheSorcerersStone.txt\",encoding='UTF-8')  \n",
        "\n",
        "    "
      ],
      "id": "6jZGLUvxerxI",
      "execution_count": null,
      "outputs": []
    },
    {
      "cell_type": "markdown",
      "metadata": {
        "id": "bdx6MayYerxJ"
      },
      "source": [
        "Next he makes a list of all the words present in the novel mapping them to their index(position) in the list of words (i.e. ListOfWords). This is done by mapping every word (a string) to a list (list of indices), and this is stored as a Dictionary (DictionaryoOfWords)\n",
        "\n",
        "\n",
        "\n",
        "He makes use of the readlines() method which is used to extract all the lines from any text and the split() function which could be used to split any sentence into distinct words. The replace() method is used on strings to replace certain segments of the string with something else."
      ],
      "id": "bdx6MayYerxJ"
    },
    {
      "cell_type": "code",
      "metadata": {
        "trusted": true,
        "id": "PCmuP-8TerxK"
      },
      "source": [
        "DictionaryOfWords = {}       #Dictionary mapping every word to a list (of indices of the words' occurences)\n",
        "Novel = []                     #List of all words in the order, in which they appear!\n",
        "\n",
        "\n",
        "\n",
        "i = 0                   #Counter Variable to keep track of index of words\n",
        "\n",
        "for line in File.readlines():     #Iterate over all lines present in the text\n",
        "    \n",
        "    #Look at Python's Conciseness!\n",
        "    \n",
        "    line = line.replace(\".\",\"\").replace(\",\",\"\").replace('?','').replace('!','').replace('[','').replace(']','')\\\n",
        "    .replace('(','').replace(')','').replace('%','').replace('/','')  \n",
        "    #COMPLETE THE CODE FROM HERE:\n",
        "    \n",
        "    #This would split the line into many different words, and iterate over these words\n",
        "    \n",
        "    for word in line.split(' '):                                                              \n",
        "        if word in DictionaryOfWords.keys():     #If the word is already present in the dictionary\n",
        "            DictionaryOfWords.update({word:i})                                                                                                                                     \n",
        "        else:\n",
        "            DictionaryOfWords.update({word:1})     #Create a new list of indices for this word, with a single element\n",
        "         \n",
        "        Novel.append(word)        #Add the Word in the Novel's ordered list of words\n",
        "        \n",
        "        i+=1\n",
        "    "
      ],
      "id": "PCmuP-8TerxK",
      "execution_count": null,
      "outputs": []
    },
    {
      "cell_type": "markdown",
      "metadata": {
        "id": "6WLUR3w1erxM"
      },
      "source": [
        "That guy truly left a lot of work for you!\n",
        "\n",
        "Now that you've done that, We have the words in the novel alongwith where they appeared in the text loaded into memory (Thanks to You!).\n",
        "\n",
        "The Next Step would be to answer any queries the user may have.\n",
        "\n",
        "To do this, we define the function GetQuery() which returns the word as well as the number of results the user wants to see (as a tuple):\n",
        "\n"
      ],
      "id": "6WLUR3w1erxM"
    },
    {
      "cell_type": "code",
      "metadata": {
        "trusted": true,
        "id": "joQkFQ7lerxN"
      },
      "source": [
        "#COMPLETE THE CODE FROM HERE:\n",
        "\n",
        "def GetQuery():\n",
        "   \n",
        "    word = input()        #Get Input from the user regarding what word s/he wants to query for\n",
        "\n",
        "    Number = input()     #Get Input from the user regarding how many results the user wants to see\n",
        "\n",
        "    return (word,Number)                 #Return as output a tuple of the word and the Number of results       "
      ],
      "id": "joQkFQ7lerxN",
      "execution_count": null,
      "outputs": []
    },
    {
      "cell_type": "markdown",
      "metadata": {
        "id": "9oX-l0ZNerxN"
      },
      "source": [
        "Now, We need a function which takes as input the index of any particular word and prints the words surrounding it as if they were in an actual sentence. \n",
        "\n",
        "This is done by iterating over the words surrounding it, and printing them with gaps in between. We also assume that this occurence isn't a boundary case and thus, the 10 words surronding it actually exist."
      ],
      "id": "9oX-l0ZNerxN"
    },
    {
      "cell_type": "code",
      "metadata": {
        "trusted": true,
        "id": "7hZtLnqgerxO"
      },
      "source": [
        "def PrintContext(index):\n",
        "    \n",
        "    global Novel                          #Declares the list Novel as a Global Variable\n",
        "    \n",
        "    #COMPLETE THE CODE FROM HERE:\n",
        "    \n",
        "    for i in range(0,10) :           #Define the range so that the task above is fulfilled\n",
        "        \n",
        "        print(Novel[i+index], end = ' ')          #Print the word (using List Indexing) with a space after that\n",
        "        \n",
        "    print('\\n')"
      ],
      "id": "7hZtLnqgerxO",
      "execution_count": null,
      "outputs": []
    },
    {
      "cell_type": "markdown",
      "metadata": {
        "id": "9uCJrB_aerxO"
      },
      "source": [
        "The result of the GetQuery() function will be passed into a second function which would take as input the word and the number of results to be displayed and do so!"
      ],
      "id": "9uCJrB_aerxO"
    },
    {
      "cell_type": "code",
      "metadata": {
        "trusted": true,
        "id": "PPjd-Hl7erxP"
      },
      "source": [
        "def PrintResult(word, NumQuery):\n",
        "  \n",
        "    global DictionaryOfWords                #Allows us to use the Dictionary as a global variable\n",
        "    \n",
        "    #COMPLETE THE CODE FROM HERE:\n",
        "    \n",
        "    L = DictionaryOfWords[word] \n",
        "    Novel1=Novel\n",
        "    for i in range(0,min(L,int(NumQuery))):\n",
        "        t=Novel1.index(word)\n",
        "        PrintContext(t)   \n",
        "        Novel1[t]='kya ganda code likhkte ho wncc'\n",
        "                  #Actually print the words surrounding the ith occurence of the given word\n",
        "        "
      ],
      "id": "PPjd-Hl7erxP",
      "execution_count": null,
      "outputs": []
    },
    {
      "cell_type": "markdown",
      "metadata": {
        "id": "281PRbqNerxQ"
      },
      "source": [
        "Finally, you need an infinite loop which runs until the user wants it to and asks for the next word (if the user wants to query more) or end the loop."
      ],
      "id": "281PRbqNerxQ"
    },
    {
      "cell_type": "code",
      "metadata": {
        "trusted": true,
        "colab": {
          "base_uri": "https://localhost:8080/"
        },
        "id": "xOzQN2IOerxQ",
        "outputId": "6e03c6aa-ad47-4e4c-c03a-eb47fbfc77aa"
      },
      "source": [
        "while 1>0 :   \n",
        "    \n",
        "    Choice = input('Press Y in order to Continue with the next query or N to end. Please press Enter after entering your choice!')\n",
        "    \n",
        "    #COMPLETE THE CODE FROM HERE:\n",
        "    \n",
        "    if Choice== \"Y\" :                     # If the user wants to query \n",
        "        \n",
        "        inputtuple=GetQuery();  \n",
        "        PrintResult(inputtuple[0],inputtuple[1])                  #Use some of the past defined function to do so\n",
        "        \n",
        "    else:\n",
        "        \n",
        "        break                                 #Else end the loop"
      ],
      "id": "xOzQN2IOerxQ",
      "execution_count": null,
      "outputs": [
        {
          "output_type": "stream",
          "text": [
            "Press Y in order to Continue with the next query or N to end. Please press Enter after entering your choice!Y\n",
            "Harry\n",
            "4\n",
            "Harry —”\n",
            " \n",
            " Mr Dursley stopped dead Fear flooded him \n",
            "\n",
            "Harry Come to think of it he wasn’t even\n",
            " sure \n",
            "\n",
            "Harry He’d never even seen the boy It\n",
            " \n",
            " \n",
            " \n",
            "\n",
            "Harry survive”\n",
            " \n",
            " “We can only guess” said Dumbledore “We \n",
            "\n"
          ],
          "name": "stdout"
        }
      ]
    }
  ]
}